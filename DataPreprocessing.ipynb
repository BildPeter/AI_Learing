{
 "cells": [
  {
   "cell_type": "code",
   "execution_count": 1,
   "metadata": {
    "collapsed": true
   },
   "outputs": [],
   "source": [
    "import numpy as np\n",
    "import matplotlib.pyplot as plt\n",
    "import pandas as pd"
   ]
  },
  {
   "cell_type": "code",
   "execution_count": 4,
   "metadata": {},
   "outputs": [],
   "source": [
    "dataset = pd.read_csv( \"Data.csv\" )\n",
    "X = dataset.iloc[:,:-1].values\n",
    "Y = dataset.iloc[:,-1:].values"
   ]
  },
  {
   "cell_type": "code",
   "execution_count": 14,
   "metadata": {},
   "outputs": [],
   "source": [
    ""
   ]
  },
  {
   "cell_type": "code",
   "execution_count": 20,
   "metadata": {},
   "outputs": [],
   "source": [
    "from sklearn.preprocessing import Imputer\n",
    "imputer = Imputer( missing_values='NaN', strategy='mean', axis=0)\n",
    "imputer = imputer.fit( X[:,1:3] )\n",
    "X[:,1:3] = imputer.transform( X[:,1:3])\n",
    "print( X )"
   ]
  },
  {
   "cell_type": "code",
   "execution_count": 33,
   "metadata": {},
   "outputs": [],
   "source": [
    "from sklearn.preprocessing import LabelEncoder, OneHotEncoder\n",
    "labelEncX = LabelEncoder()\n",
    "labelEncY = LabelEncoder()\n",
    "X[:,0] = labelEncX.fit_transform( X[:,0] )\n",
    "Y[:,0] = labelEncY.fit_transform( Y[:,0] )"
   ]
  },
  {
   "cell_type": "code",
   "execution_count": 34,
   "metadata": {},
   "outputs": [],
   "source": [
    "oneHotEncoder = OneHotEncoder( categorical_features=[0])\n",
    "X = oneHotEncoder.fit_transform(X).toarray()"
   ]
  },
  {
   "cell_type": "heading",
   "metadata": {},
   "level": 1,
   "source": [
    "Train- & Test-Set "
   ]
  },
  {
   "cell_type": "code",
   "execution_count": 39,
   "metadata": {},
   "outputs": [],
   "source": [
    "from sklearn.cross_validation import train_test_split"
   ]
  },
  {
   "cell_type": "code",
   "execution_count": 40,
   "metadata": {},
   "outputs": [],
   "source": [
    "x_train, x_test, y_train, y_test = train_test_split( X, Y, test_size=0.2, random_state=0 )"
   ]
  },
  {
   "cell_type": "code",
   "execution_count": 42,
   "metadata": {},
   "outputs": [
    {
     "data": {
      "text/plain": [
       "array([[  1.00000000e+00,   0.00000000e+00,   1.00000000e+00,\n          0.00000000e+00,   4.00000000e+01,   6.37777778e+04],\n       [  0.00000000e+00,   1.00000000e+00,   0.00000000e+00,\n          0.00000000e+00,   3.70000000e+01,   6.70000000e+04],\n       [  1.00000000e+00,   0.00000000e+00,   0.00000000e+00,\n          1.00000000e+00,   2.70000000e+01,   4.80000000e+04],\n       [  1.00000000e+00,   0.00000000e+00,   0.00000000e+00,\n          1.00000000e+00,   3.87777778e+01,   5.20000000e+04],\n       [  0.00000000e+00,   1.00000000e+00,   0.00000000e+00,\n          0.00000000e+00,   4.80000000e+01,   7.90000000e+04],\n       [  1.00000000e+00,   0.00000000e+00,   0.00000000e+00,\n          1.00000000e+00,   3.80000000e+01,   6.10000000e+04],\n       [  0.00000000e+00,   1.00000000e+00,   0.00000000e+00,\n          0.00000000e+00,   4.40000000e+01,   7.20000000e+04],\n       [  0.00000000e+00,   1.00000000e+00,   0.00000000e+00,\n          0.00000000e+00,   3.50000000e+01,   5.80000000e+04]])"
      ]
     },
     "execution_count": 42,
     "metadata": {},
     "output_type": "execute_result"
    }
   ],
   "source": [
    "x_train"
   ]
  },
  {
   "cell_type": "code",
   "execution_count": null,
   "metadata": {},
   "outputs": [],
   "source": [
    ""
   ]
  }
 ],
 "metadata": {
  "kernelspec": {
   "display_name": "Python 2",
   "language": "python",
   "name": "python2"
  },
  "language_info": {
   "codemirror_mode": {
    "name": "ipython",
    "version": 2.0
   },
   "file_extension": ".py",
   "mimetype": "text/x-python",
   "name": "python",
   "nbconvert_exporter": "python",
   "pygments_lexer": "ipython2",
   "version": "2.7.6"
  }
 },
 "nbformat": 4,
 "nbformat_minor": 0
}